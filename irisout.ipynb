{
 "cells": [
  {
   "cell_type": "code",
   "execution_count": 1,
   "metadata": {},
   "outputs": [],
   "source": [
    "import tensorflow as tf\n",
    "import pandas as pd\n",
    "import numpy as np\n",
    "from sklearn.preprocessing import StandardScaler"
   ]
  },
  {
   "cell_type": "code",
   "execution_count": 2,
   "metadata": {},
   "outputs": [
    {
     "name": "stderr",
     "output_type": "stream",
     "text": [
      "WARNING:absl:Compiled the loaded model, but the compiled metrics have yet to be built. `model.compile_metrics` will be empty until you train or evaluate the model.\n"
     ]
    }
   ],
   "source": [
    "# Load the model\n",
    "model = tf.keras.models.load_model('my_model.h5')"
   ]
  },
  {
   "cell_type": "code",
   "execution_count": 3,
   "metadata": {},
   "outputs": [],
   "source": [
    "'''\n",
    "SepalLengthCm=4.9\n",
    "SepalWidthCm=2.4\n",
    "PetalLengthCm=3.3\n",
    "PetalWidthCm=1\n",
    "'''\n",
    "# Reshape the input for prediction\n",
    "\n",
    "scaler = StandardScaler()\n",
    "\n",
    "#X_test = np.array([[SepalLengthCm, SepalWidthCm,PetalLengthCm,PetalWidthCm]])\n",
    "X_test = np.array([[4.9,2.4,3.3,1]])\n",
    "\n",
    "X_test = scaler.fit_transform(X_test)\n"
   ]
  },
  {
   "cell_type": "code",
   "execution_count": 4,
   "metadata": {},
   "outputs": [
    {
     "name": "stdout",
     "output_type": "stream",
     "text": [
      "\u001b[1m1/1\u001b[0m \u001b[32m━━━━━━━━━━━━━━━━━━━━\u001b[0m\u001b[37m\u001b[0m \u001b[1m0s\u001b[0m 64ms/step\n"
     ]
    }
   ],
   "source": [
    "predictions = model.predict(X_test)"
   ]
  },
  {
   "cell_type": "code",
   "execution_count": 5,
   "metadata": {},
   "outputs": [
    {
     "name": "stdout",
     "output_type": "stream",
     "text": [
      "Predicted Classes: [[1]]\n"
     ]
    }
   ],
   "source": [
    "# Convert probabilities to class labels\n",
    "predicted_classes = (predictions > 0.5).astype(int)\n",
    "\n",
    "# Print the first few predictions and true labels\n",
    "print(\"Predicted Classes:\", predicted_classes[:10])\n"
   ]
  },
  {
   "cell_type": "code",
   "execution_count": 6,
   "metadata": {},
   "outputs": [
    {
     "name": "stdout",
     "output_type": "stream",
     "text": [
      "class: 1\n",
      "species:  versicolor\n"
     ]
    }
   ],
   "source": [
    "import numpy as np\n",
    "# Create a NumPy array from the list of lists\n",
    "species = np.array(['setosa','versicolor','virginica'])\n",
    "classess = np.array(predicted_classes[:10])\n",
    "\n",
    "# Extract the scalar value\n",
    "scalar_value = classess.item()\n",
    "\n",
    "print(f'class: {scalar_value}')\n",
    "print('species: ',species[scalar_value])"
   ]
  }
 ],
 "metadata": {
  "kernelspec": {
   "display_name": "Python 3",
   "language": "python",
   "name": "python3"
  },
  "language_info": {
   "codemirror_mode": {
    "name": "ipython",
    "version": 3
   },
   "file_extension": ".py",
   "mimetype": "text/x-python",
   "name": "python",
   "nbconvert_exporter": "python",
   "pygments_lexer": "ipython3",
   "version": "3.9.10"
  }
 },
 "nbformat": 4,
 "nbformat_minor": 2
}
